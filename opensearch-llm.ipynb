{
 "cells": [
  {
   "cell_type": "code",
   "execution_count": null,
   "id": "db7ea1b6-43a3-427b-ab84-3ec0955c5e28",
   "metadata": {},
   "outputs": [],
   "source": [
    "# 環境準備"
   ]
  },
  {
   "cell_type": "code",
   "execution_count": null,
   "id": "0f254ed2-00ee-449e-97a8-ecb2ba289afe",
   "metadata": {},
   "outputs": [],
   "source": [
    "!pip install -Uq boto3 opensearch-py python-dotenv langchain\n"
   ]
  },
  {
   "cell_type": "code",
   "execution_count": null,
   "id": "f3d28da2-00d8-4c97-87bc-879f58ad2c6c",
   "metadata": {},
   "outputs": [],
   "source": [
    "from opensearchpy import OpenSearch\n",
    "\n",
    "host = 'opensearch'\n",
    "port = 9200\n",
    "auth = (\"admin\", \"Naotoiso19911104%\")\n",
    "client = OpenSearch(\n",
    "    hosts = [{'host': host, 'port': port}],\n",
    "    http_compress=True,\n",
    "    http_auth=auth,\n",
    "    use_ssl=True,\n",
    "    verify_certs=False,\n",
    ")\n",
    "\n",
    "info = client.info()\n",
    "print(f\"Welcome to {info['version']['distribution']} {info['version']['number']}!\")"
   ]
  },
  {
   "cell_type": "code",
   "execution_count": null,
   "id": "31fe1724-5d7d-465b-b332-efbae0079294",
   "metadata": {},
   "outputs": [],
   "source": [
    "%env AWS_ACCESS_KEY_ID="
   ]
  },
  {
   "cell_type": "code",
   "execution_count": null,
   "id": "37ee661f-2584-4e61-92cd-fedb4de36e8a",
   "metadata": {},
   "outputs": [],
   "source": [
    "%env AWS_SECRET_ACCESS_KEY="
   ]
  },
  {
   "cell_type": "code",
   "execution_count": null,
   "id": "21dbacf9-bfc8-4291-89c4-808a8b557d4a",
   "metadata": {},
   "outputs": [],
   "source": [
    "%env AWS_DEFAULT_REGION="
   ]
  },
  {
   "cell_type": "code",
   "execution_count": null,
   "id": "484c3733-f5fb-44fa-b178-4285b5be8a67",
   "metadata": {},
   "outputs": [],
   "source": [
    "import os\n",
    "print(os.environ.get(\"AWS_ACCESS_KEY_ID\"))\n",
    "print(os.environ.get(\"AWS_SECRET_ACCESS_KEY\"))\n",
    "print(os.environ.get(\"AWS_DEFAULT_REGION\"))"
   ]
  },
  {
   "cell_type": "code",
   "execution_count": null,
   "id": "035e06ab-3dab-46b2-b703-6fee04d757e9",
   "metadata": {},
   "outputs": [],
   "source": [
    "# OpenSearchにBedrock（Titan Embeddings）のデプロイ"
   ]
  },
  {
   "cell_type": "code",
   "execution_count": null,
   "id": "e1a7fd58-315a-42a5-a486-f392bc599d7a",
   "metadata": {},
   "outputs": [],
   "source": [
    "# コネクタを作成\n",
    "body = {\n",
    "  \"name\": \"Amazon Bedrock Connector: embedding\",\n",
    "  \"description\": \"The connector to the Bedrock Titan embedding model\",\n",
    "  \"version\": 1,\n",
    "  \"protocol\": \"aws_sigv4\",\n",
    "  \"parameters\": {\n",
    "    \"region\": os.getenv(\"AWS_DEFAULT_REGION\"),\n",
    "    \"service_name\": \"bedrock\"\n",
    "  },\n",
    "  \"credential\": {\n",
    "    \"access_key\": os.getenv(\"AWS_ACCESS_KEY_ID\"),\n",
    "      \"secret_key\": os.getenv(\"AWS_SECRET_ACCESS_KEY\")\n",
    "  },\n",
    "  \"actions\": [\n",
    "    {\n",
    "      \"action_type\": \"predict\",\n",
    "      \"method\": \"POST\",\n",
    "      \"url\": \"https://bedrock-runtime.us-east-1.amazonaws.com/model/amazon.titan-embed-text-v1/invoke\",\n",
    "      \"headers\": {\n",
    "        \"content-type\": \"application/json\",\n",
    "        \"x-amz-content-sha256\": \"required\"\n",
    "      },\n",
    "      \"request_body\": \"{ \\\"inputText\\\": \\\"${parameters.inputText}\\\" }\",\n",
    "      \"pre_process_function\": \"\\n    StringBuilder builder = new StringBuilder();\\n    builder.append(\\\"\\\\\\\"\\\");\\n    String first = params.text_docs[0];\\n    builder.append(first);\\n    builder.append(\\\"\\\\\\\"\\\");\\n    def parameters = \\\"{\\\" +\\\"\\\\\\\"inputText\\\\\\\":\\\" + builder + \\\"}\\\";\\n    return  \\\"{\\\" +\\\"\\\\\\\"parameters\\\\\\\":\\\" + parameters + \\\"}\\\";\",\n",
    "      \"post_process_function\": \"\\n      def name = \\\"sentence_embedding\\\";\\n      def dataType = \\\"FLOAT32\\\";\\n      if (params.embedding == null || params.embedding.length == 0) {\\n        return params.message;\\n      }\\n      def shape = [params.embedding.length];\\n      def json = \\\"{\\\" +\\n                 \\\"\\\\\\\"name\\\\\\\":\\\\\\\"\\\" + name + \\\"\\\\\\\",\\\" +\\n                 \\\"\\\\\\\"data_type\\\\\\\":\\\\\\\"\\\" + dataType + \\\"\\\\\\\",\\\" +\\n                 \\\"\\\\\\\"shape\\\\\\\":\\\" + shape + \\\",\\\" +\\n                 \\\"\\\\\\\"data\\\\\\\":\\\" + params.embedding +\\n                 \\\"}\\\";\\n      return json;\\n    \"\n",
    "    }\n",
    "  ]\n",
    "}\n",
    "\n",
    "response = client.transport.perform_request(\n",
    "        method='POST',\n",
    "        url='/_plugins/_ml/connectors/_create',\n",
    "        body=body\n",
    ")\n",
    "\n",
    "titan_connector_id = response['connector_id']\n"
   ]
  },
  {
   "cell_type": "code",
   "execution_count": null,
   "id": "77425f6b-284c-4082-90a6-8cb5b54861e5",
   "metadata": {},
   "outputs": [],
   "source": [
    "# モデルを作成\n",
    "model_name = \"titan-embedded-model\"\n",
    "\n",
    "body = {\n",
    "    \"name\": model_name,\n",
    "    \"function_name\": \"remote\",\n",
    "    \"connector_id\": titan_connector_id\n",
    "}\n",
    "\n",
    "response = client.transport.perform_request(\n",
    "        method='POST',\n",
    "        url='/_plugins/_ml/models/_register',\n",
    "        body=body\n",
    ")\n",
    "\n",
    "titan_model_id = response['model_id']\n"
   ]
  },
  {
   "cell_type": "code",
   "execution_count": null,
   "id": "b5460ee4-8363-479f-a987-a656a6fbea5b",
   "metadata": {
    "scrolled": true
   },
   "outputs": [],
   "source": [
    "# モデルをデプロイ\n",
    "response = client.transport.perform_request(\n",
    "        method='POST',\n",
    "        url=f'/_plugins/_ml/models/{titan_model_id}/_deploy'\n",
    ")\n"
   ]
  },
  {
   "cell_type": "code",
   "execution_count": null,
   "id": "518b464c-d768-4014-ab43-c59713f03e27",
   "metadata": {},
   "outputs": [],
   "source": [
    "# OpenSearchにBedrock（Anthropic Claude Instant）のデプロイ"
   ]
  },
  {
   "cell_type": "code",
   "execution_count": null,
   "id": "7b522bbe-bedc-493a-87ea-d8a6dc326d86",
   "metadata": {},
   "outputs": [],
   "source": [
    "# コネクターを作成\n",
    "body = {\n",
    "  \"name\": \"Amazon Bedrock(anthropic.claude-instant-v1)\",\n",
    "  \"description\": \"Test connector for Amazon Bedrock\",\n",
    "  \"version\": 1,\n",
    "  \"protocol\": \"aws_sigv4\",\n",
    "  \"parameters\": {\n",
    "    \"region\": os.getenv(\"AWS_DEFAULT_REGION\"),\n",
    "    \"service_name\": \"bedrock\"\n",
    "  },\n",
    "  \"credential\": {\n",
    "    \"access_key\": os.getenv(\"AWS_ACCESS_KEY_ID\"),\n",
    "      \"secret_key\": os.getenv(\"AWS_SECRET_ACCESS_KEY\")\n",
    "  },\n",
    "  \"actions\": [\n",
    "    {\n",
    "      \"action_type\": \"predict\",\n",
    "      \"method\": \"POST\",\n",
    "      \"url\": \"https://bedrock-runtime.us-east-1.amazonaws.com/model/anthropic.claude-instant-v1/invoke\",\n",
    "      \"headers\": {\n",
    "        \"content-type\": \"application/json\",\n",
    "        \"x-amz-content-sha256\": \"required\"\n",
    "      },\n",
    "      \"request_body\": \"{\\\"prompt\\\":\\\"\\\\n\\\\nHuman: ${parameters.inputs}\\\\n\\\\nAssistant:\\\",\\\"max_tokens_to_sample\\\":2000,\\\"temperature\\\":0.5,\\\"top_k\\\":250,\\\"top_p\\\":1,\\\"stop_sequences\\\":[\\\"\\\\\\\\n\\\\\\\\nHuman:\\\"]}\"\n",
    "    }\n",
    "  ]\n",
    "}\n",
    "\n",
    "response = client.transport.perform_request(\n",
    "        method='POST',\n",
    "        url='/_plugins/_ml/connectors/_create',\n",
    "        body=body\n",
    ")\n"
   ]
  },
  {
   "cell_type": "code",
   "execution_count": null,
   "id": "f187bfd1-1ec7-4d1d-a4a9-b2b5a1d3762d",
   "metadata": {},
   "outputs": [],
   "source": [
    "print(response.get(\"connector_id\"))"
   ]
  },
  {
   "cell_type": "code",
   "execution_count": null,
   "id": "35ee8b91-2d65-48da-b9ed-54edd732fa61",
   "metadata": {},
   "outputs": [],
   "source": [
    "# モデルを作成\n",
    "model_name = \"claude-instant-model\"\n",
    "\n",
    "body = {\n",
    "    \"name\": model_name,\n",
    "    \"function_name\": \"remote\",\n",
    "    \"connector_id\": response.get(\"connector_id\")\n",
    "}\n",
    "\n",
    "response = client.transport.perform_request(\n",
    "        method='POST',\n",
    "        url='/_plugins/_ml/models/_register',\n",
    "        body=body\n",
    ")\n",
    "\n",
    "claude_model_id = response['model_id']\n"
   ]
  },
  {
   "cell_type": "code",
   "execution_count": null,
   "id": "e57023a6-da96-46d1-b216-062d47ee6b65",
   "metadata": {},
   "outputs": [],
   "source": [
    "# モデルをデプロイ\n",
    "response = client.transport.perform_request(\n",
    "        method='POST',\n",
    "        url=f'/_plugins/_ml/models/{claude_model_id}/_deploy'\n",
    ")\n"
   ]
  },
  {
   "cell_type": "code",
   "execution_count": null,
   "id": "e0542218-1c43-44c6-ba6b-d70e682f25ff",
   "metadata": {},
   "outputs": [],
   "source": [
    "body = {\n",
    "  \"persistent\": {\n",
    "    \"plugins.ml_commons.rag_pipeline_feature_enabled\": \"true\"\n",
    "    }\n",
    "}\n",
    "\n",
    "response = client.transport.perform_request(\n",
    "        method='PUT',\n",
    "        url='/_cluster/settings',\n",
    "        body=body\n",
    ")\n"
   ]
  },
  {
   "cell_type": "code",
   "execution_count": null,
   "id": "0174221a-6066-43d1-ba84-addccc38c903",
   "metadata": {},
   "outputs": [],
   "source": [
    "# RAG有効化\n",
    "body = {\n",
    "  \"persistent\": {\n",
    "    \"plugins.ml_commons.rag_pipeline_feature_enabled\": \"true\"\n",
    "    }\n",
    "}\n",
    "\n",
    "response = client.transport.perform_request(\n",
    "        method='PUT',\n",
    "        url='/_cluster/settings',\n",
    "        body=body\n",
    ")\n"
   ]
  },
  {
   "cell_type": "code",
   "execution_count": null,
   "id": "7239be12-b80e-47a0-a8da-d0e5978cf607",
   "metadata": {},
   "outputs": [],
   "source": [
    "# ingestパイプラインの作成\n",
    "ingest_pipeline_name = \"nlp-ingest-pipeline\"\n",
    "embedding_field = \"passage_embedding\"\n",
    "embedding_target_field = \"question\"\n",
    "\n",
    "body = {\n",
    "  \"description\": \"An NLP ingest pipeline\",\n",
    "  \"processors\": [\n",
    "    {\n",
    "      \"text_embedding\": {\n",
    "        \"model_id\": titan_model_id,\n",
    "        \"field_map\": {\n",
    "          embedding_target_field: embedding_field\n",
    "        }\n",
    "      }\n",
    "    }\n",
    "  ]\n",
    "}\n",
    "\n",
    "response = client.transport.perform_request(\n",
    "        method='PUT',\n",
    "        url=f'/_ingest/pipeline/{ingest_pipeline_name}',\n",
    "        body=body\n",
    ")"
   ]
  },
  {
   "cell_type": "code",
   "execution_count": null,
   "id": "8aa8dc92-fa5c-4793-9213-650f4c12cf81",
   "metadata": {},
   "outputs": [],
   "source": [
    "# Searchパイプラインの作成\n",
    "search_pipeline_name = 'rag-search-pipeline'\n",
    "\n",
    "body = {\n",
    "  \"response_processors\": [\n",
    "    {\n",
    "      \"retrieval_augmented_generation\": {\n",
    "        \"model_id\": claude_model_id,\n",
    "        \"context_field_list\": [\"answer\"],\n",
    "        \"system_prompt\": \"You are a helpful assistant\",\n",
    "        \"user_instructions\": \"Generate a concise and informative answer in less than 100 words for the given question\"\n",
    "      }\n",
    "    }\n",
    "  ]\n",
    "}\n",
    "\n",
    "response = client.transport.perform_request(\n",
    "        method='PUT',\n",
    "        url=f'/_search/pipeline/{search_pipeline_name}',\n",
    "        body=body\n",
    ")\n"
   ]
  },
  {
   "cell_type": "code",
   "execution_count": null,
   "id": "d15bc2b2-2b82-4b7a-8248-a31d153a734c",
   "metadata": {},
   "outputs": [],
   "source": [
    "#インデックスの作成\n",
    "index_name = 'rag-index'\n",
    "\n",
    "body = {\n",
    "  \"settings\": {\n",
    "    \"index.knn\": True,\n",
    "    \"default_pipeline\": ingest_pipeline_name,\n",
    "    \"index\": {\n",
    "      \"analysis\": {\n",
    "        \"analyzer\": {\n",
    "          \"custom_kuromoji_analyzer\": {\n",
    "            \"tokenizer\": \"kuromoji_tokenizer\",\n",
    "            \"filter\": [\"kuromoji_baseform\", \"ja_stop\"],\n",
    "            \"char_filter\": [\"icu_normalizer\"]\n",
    "          }\n",
    "        }\n",
    "      }\n",
    "    }\n",
    "  }, \n",
    "  \"mappings\": {\n",
    "    \"properties\": {\n",
    "      embedding_field: {\n",
    "        \"type\": \"knn_vector\",\n",
    "        \"dimension\": 1536\n",
    "      },\n",
    "      \"question\": {\"type\": \"text\", \"analyzer\": \"custom_kuromoji_analyzer\"},\n",
    "      \"answer\": {\"type\": \"text\", \"analyzer\": \"custom_kuromoji_analyzer\"}\n",
    "    }\n",
    "  }\n",
    "}\n",
    "\n",
    "response = client.indices.create(index=index_name, body=body)\n"
   ]
  },
  {
   "cell_type": "code",
   "execution_count": null,
   "id": "c3930eb9-f5d0-41d2-b716-250f524fe3b4",
   "metadata": {},
   "outputs": [],
   "source": [
    "# ドキュメントの登録 １０分ほど時間がかかります。\n",
    "from langchain.document_loaders import WebBaseLoader\n",
    "from langchain.text_splitter import CharacterTextSplitter\n",
    "\n",
    "loader = WebBaseLoader(\"https://aws.amazon.com/jp/ec2/faqs/\")\n",
    "data = loader.load()\n",
    "\n",
    "text_splitter = CharacterTextSplitter(\n",
    "    separator = \"Q:\",\n",
    "    keep_separator=True,\n",
    "    chunk_size = 10,\n",
    "    chunk_overlap  = 0,\n",
    ")\n",
    "\n",
    "# 先頭のいらないものを消す\n",
    "texts = text_splitter.split_documents(data)\n",
    "texts = texts[1:]\n",
    "# 末尾のいらないものを消す\n",
    "texts[-1].page_content = texts[-1].page_content.split('\\xa0')[0]\n",
    "\n",
    "for text in texts:\n",
    "  try:\n",
    "    lines = text.page_content.splitlines()\n",
    "    q = lines[0]\n",
    "    a = text.page_content\n",
    "\n",
    "    body = {\n",
    "      \"question\": q,\n",
    "      \"answer\": a\n",
    "    }\n",
    "\n",
    "    client.index(index=index_name, body=body)\n",
    "\n",
    "  except Exception as e:\n",
    "    print(e)\n"
   ]
  },
  {
   "cell_type": "code",
   "execution_count": null,
   "id": "57f4ac2a-dd45-4cea-a723-2062e4c6a6e8",
   "metadata": {},
   "outputs": [],
   "source": [
    "# RAG実行"
   ]
  },
  {
   "cell_type": "code",
   "execution_count": null,
   "id": "aa04ef94-652a-4a22-9215-ecdb4528e6fd",
   "metadata": {},
   "outputs": [],
   "source": [
    "question = \"EC2で起動できるOSは何ですか？\"\n"
   ]
  },
  {
   "cell_type": "code",
   "execution_count": null,
   "id": "a900cdf9-6942-41d8-bbda-723eb28aa72f",
   "metadata": {},
   "outputs": [],
   "source": [
    "body = {\n",
    "  \"_source\": {\n",
    "    \"excludes\": [\n",
    "      embedding_field\n",
    "    ]\n",
    "  },\n",
    "  \"query\": {\n",
    "    \"neural\": {\n",
    "      embedding_field: {\n",
    "        \"query_text\": question,\n",
    "        \"model_id\": titan_model_id,\n",
    "      }\n",
    "    }\n",
    "  },\n",
    "  \"ext\": {\n",
    "\t\t\"generative_qa_parameters\": {\n",
    "      \"llm_model\": \"bedrock/anthropic-instant\", # 必ずbedrock/で始めること\n",
    "\t\t\t\"llm_question\": question,\n",
    "      \"context_size\": 10\n",
    "\t\t}\n",
    "\t}\n",
    "}\n",
    "\n",
    "params = {\n",
    "  \"search_pipeline\": search_pipeline_name,\n",
    "  \"timeout\": 30\n",
    "}\n",
    "\n",
    "response = client.search(index=index_name, body=body, params=params)\n"
   ]
  },
  {
   "cell_type": "code",
   "execution_count": null,
   "id": "ccbffeff-975d-42ea-b2d2-2d0efbdd073e",
   "metadata": {},
   "outputs": [],
   "source": [
    "print(response['ext']['retrieval_augmented_generation']['answer'])\n"
   ]
  },
  {
   "cell_type": "code",
   "execution_count": null,
   "id": "ae72ed6d-f862-4c09-8986-7def710433cc",
   "metadata": {},
   "outputs": [],
   "source": []
  }
 ],
 "metadata": {
  "kernelspec": {
   "display_name": "Python 3 (ipykernel)",
   "language": "python",
   "name": "python3"
  },
  "language_info": {
   "codemirror_mode": {
    "name": "ipython",
    "version": 3
   },
   "file_extension": ".py",
   "mimetype": "text/x-python",
   "name": "python",
   "nbconvert_exporter": "python",
   "pygments_lexer": "ipython3",
   "version": "3.11.6"
  }
 },
 "nbformat": 4,
 "nbformat_minor": 5
}
